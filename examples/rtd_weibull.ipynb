{
 "cells": [
  {
   "cell_type": "markdown",
   "metadata": {},
   "source": [
    "# Weibull distribution for as a RTD\n",
    "\n",
    "Example of using a Weibull distribution to represent a RTD, uses function \n",
    "available in the rtd.py module of PyroPy."
   ]
  },
  {
   "cell_type": "code",
   "execution_count": 1,
   "metadata": {
    "collapsed": false
   },
   "outputs": [
    {
     "name": "stdout",
     "output_type": "stream",
     "text": [
      "Warning: Cannot change to a different GUI toolkit: notebook. Using osx instead.\n"
     ]
    }
   ],
   "source": [
    "import numpy as np\n",
    "import matplotlib.pyplot as py\n",
    "%matplotlib notebook\n",
    "import chemics as cm    \n",
    "    \n",
    "# Weibull Distribution\n",
    "# -----------------------------------------------------------------------------\n",
    "    \n",
    "x = np.linspace(0.01, 2.5, 100)    # time vector, s\n",
    "\n",
    "w1 = cm.weibull(x, 1, 0.5)      # shape parameter k=1, scale parameter lam=0.5\n",
    "w2 = cm.weibull(x, 1, 1)        # shape parameter k=1, scale parameter lam=1\n",
    "w3 = cm.weibull(x, 1, 1.5)      # shape parameter k=1, scale parameter lam=1.5\n",
    "w4 = cm.weibull(x, 1, 5)        # shape parameter k=1, scale parameter lam=5\n",
    "\n",
    "# Plot\n",
    "# -----------------------------------------------------------------------------\n",
    "\n",
    "py.ion()\n",
    "py.close('all')\n",
    "\n",
    "py.figure(1)\n",
    "py.plot(x, w1, lw=2, label='$\\lambda$=1, k=0.5')\n",
    "py.plot(x, w2, lw=2, label='$\\lambda$=1, k=1')\n",
    "py.plot(x, w3, lw=2, label='$\\lambda$=1, k=1.5')\n",
    "py.plot(x, w4, lw=2, label='$\\lambda$=1, k=5')\n",
    "py.xlabel('X')\n",
    "py.ylabel('Probability density function')\n",
    "py.legend(loc='best', numpoints=1)\n",
    "py.grid()"
   ]
  },
  {
   "cell_type": "code",
   "execution_count": null,
   "metadata": {
    "collapsed": true
   },
   "outputs": [],
   "source": []
  }
 ],
 "metadata": {
  "kernelspec": {
   "display_name": "Python [default]",
   "language": "python",
   "name": "python3"
  },
  "language_info": {
   "codemirror_mode": {
    "name": "ipython",
    "version": 3
   },
   "file_extension": ".py",
   "mimetype": "text/x-python",
   "name": "python",
   "nbconvert_exporter": "python",
   "pygments_lexer": "ipython3",
   "version": "3.4.5"
  }
 },
 "nbformat": 4,
 "nbformat_minor": 0
}
